{
  "nbformat": 4,
  "nbformat_minor": 0,
  "metadata": {
    "colab": {
      "name": "Improving Fashion MNIST classification using Convolutions",
      "version": "0.3.2",
      "provenance": [],
      "collapsed_sections": [],
      "include_colab_link": true
    },
    "kernelspec": {
      "name": "python3",
      "display_name": "Python 3"
    }
  },
  "cells": [
    {
      "cell_type": "markdown",
      "metadata": {
        "id": "view-in-github",
        "colab_type": "text"
      },
      "source": [
        "<a href=\"https://colab.research.google.com/github/marjansherafati/tensorflow-for-fashion-MNIST-classification/blob/master/Improving_Fashion_MNIST_classification_using_Convolutions.ipynb\" target=\"_parent\"><img src=\"https://colab.research.google.com/assets/colab-badge.svg\" alt=\"Open In Colab\"/></a>"
      ]
    },
    {
      "cell_type": "markdown",
      "metadata": {
        "id": "R6gHiH-I7uFa",
        "colab_type": "text"
      },
      "source": [
        "#Improving fashion MNIST classification using Convolutions\n",
        "\n",
        "In the previous exercise (simple tensorflow neural net for fashion MNIST classification), I simply used a flatten layer, a relu layer and an output Softmax layer.\n",
        "\n",
        "I got an accuracy of 0.89 for the training set, and 0.87 for the test set"
      ]
    },
    {
      "cell_type": "code",
      "metadata": {
        "id": "xcsRtq9OLorS",
        "colab_type": "code",
        "outputId": "a1d399ce-e54d-4a10-9f3a-4ce3caff1bfa",
        "colab": {
          "base_uri": "https://localhost:8080/",
          "height": 206
        }
      },
      "source": [
        "import tensorflow as tf\n",
        "mnist = tf.keras.datasets.fashion_mnist\n",
        "(training_images, training_labels), (test_images, test_labels) = mnist.load_data()\n",
        "training_images=training_images / 255.0\n",
        "test_images=test_images / 255.0\n",
        "model = tf.keras.models.Sequential([\n",
        "  tf.keras.layers.Flatten(),\n",
        "  tf.keras.layers.Dense(128, activation=tf.nn.relu),\n",
        "  tf.keras.layers.Dense(10, activation=tf.nn.softmax)\n",
        "])\n",
        "model.compile(optimizer='adam', loss='sparse_categorical_crossentropy', metrics=['accuracy'])\n",
        "model.fit(training_images, training_labels, epochs=5)\n",
        "\n",
        "test_loss = model.evaluate(test_images, test_labels)"
      ],
      "execution_count": 13,
      "outputs": [
        {
          "output_type": "stream",
          "text": [
            "Epoch 1/5\n",
            "60000/60000 [==============================] - 4s 71us/sample - loss: 0.5020 - acc: 0.8236\n",
            "Epoch 2/5\n",
            "60000/60000 [==============================] - 5s 78us/sample - loss: 0.3753 - acc: 0.8636\n",
            "Epoch 3/5\n",
            "60000/60000 [==============================] - 4s 74us/sample - loss: 0.3355 - acc: 0.8786\n",
            "Epoch 4/5\n",
            "60000/60000 [==============================] - 4s 70us/sample - loss: 0.3130 - acc: 0.8853\n",
            "Epoch 5/5\n",
            "60000/60000 [==============================] - 5s 77us/sample - loss: 0.2950 - acc: 0.8923\n",
            "10000/10000 [==============================] - 0s 42us/sample - loss: 0.3547 - acc: 0.8743\n"
          ],
          "name": "stdout"
        }
      ]
    },
    {
      "cell_type": "markdown",
      "metadata": {
        "id": "zldEXSsF8Noz",
        "colab_type": "text"
      },
      "source": [
        "\n",
        "In this exercise, I want to start using convolution and max pool layers and see if I can increase the accuracy of training by adding convolution\n",
        "\n",
        "in the cell below, I first reshape the input to make it suitable for the convolution layers (change it from a list of 60000 vectors, each 28*28, to a 60000 by 28 by 28 by 1 tensor!\n",
        "\n",
        "Next I apply two convolution and two max pooling layers.\n",
        "\n",
        "The rest of the code from here looks the same as the simple neural net I created previously"
      ]
    },
    {
      "cell_type": "code",
      "metadata": {
        "id": "C0tFgT1MMKi6",
        "colab_type": "code",
        "outputId": "1410679b-1e22-46ab-f650-69184a771ec8",
        "colab": {
          "base_uri": "https://localhost:8080/",
          "height": 602
        }
      },
      "source": [
        "import tensorflow as tf\n",
        "print(tf.__version__)\n",
        "mnist = tf.keras.datasets.fashion_mnist\n",
        "(training_images, training_labels), (test_images, test_labels) = mnist.load_data()\n",
        "training_images=training_images.reshape(60000, 28, 28, 1)\n",
        "training_images=training_images / 255.0\n",
        "test_images = test_images.reshape(10000, 28, 28, 1)\n",
        "test_images=test_images/255.0\n",
        "model = tf.keras.models.Sequential([\n",
        "  tf.keras.layers.Conv2D(32, (3,3), activation='relu', input_shape=(28, 28, 1)),\n",
        "  tf.keras.layers.MaxPooling2D(2, 2),\n",
        "  tf.keras.layers.Conv2D(32, (3,3), activation='relu'),\n",
        "  tf.keras.layers.MaxPooling2D(2,2),\n",
        "  tf.keras.layers.Flatten(),\n",
        "  tf.keras.layers.Dense(128, activation='relu'),\n",
        "  tf.keras.layers.Dense(10, activation='softmax')\n",
        "])\n",
        "\n",
        "model.compile(optimizer='adam', loss='sparse_categorical_crossentropy', metrics=['accuracy'])\n",
        "model.summary()\n",
        "model.fit(training_images, training_labels, epochs=5)\n",
        "test_loss = model.evaluate(test_images, test_labels)\n"
      ],
      "execution_count": 14,
      "outputs": [
        {
          "output_type": "stream",
          "text": [
            "1.14.0\n",
            "Model: \"sequential_10\"\n",
            "_________________________________________________________________\n",
            "Layer (type)                 Output Shape              Param #   \n",
            "=================================================================\n",
            "conv2d_17 (Conv2D)           (None, 26, 26, 32)        320       \n",
            "_________________________________________________________________\n",
            "max_pooling2d_17 (MaxPooling (None, 13, 13, 32)        0         \n",
            "_________________________________________________________________\n",
            "conv2d_18 (Conv2D)           (None, 11, 11, 32)        9248      \n",
            "_________________________________________________________________\n",
            "max_pooling2d_18 (MaxPooling (None, 5, 5, 32)          0         \n",
            "_________________________________________________________________\n",
            "flatten_10 (Flatten)         (None, 800)               0         \n",
            "_________________________________________________________________\n",
            "dense_20 (Dense)             (None, 128)               102528    \n",
            "_________________________________________________________________\n",
            "dense_21 (Dense)             (None, 10)                1290      \n",
            "=================================================================\n",
            "Total params: 113,386\n",
            "Trainable params: 113,386\n",
            "Non-trainable params: 0\n",
            "_________________________________________________________________\n",
            "Epoch 1/5\n",
            "60000/60000 [==============================] - 47s 782us/sample - loss: 0.4669 - acc: 0.8321\n",
            "Epoch 2/5\n",
            "60000/60000 [==============================] - 46s 770us/sample - loss: 0.3122 - acc: 0.8857\n",
            "Epoch 3/5\n",
            "60000/60000 [==============================] - 46s 763us/sample - loss: 0.2665 - acc: 0.9023\n",
            "Epoch 4/5\n",
            "60000/60000 [==============================] - 47s 781us/sample - loss: 0.2377 - acc: 0.9112\n",
            "Epoch 5/5\n",
            "60000/60000 [==============================] - 46s 764us/sample - loss: 0.2170 - acc: 0.9196\n",
            "10000/10000 [==============================] - 3s 262us/sample - loss: 0.2644 - acc: 0.9032\n"
          ],
          "name": "stdout"
        }
      ]
    },
    {
      "cell_type": "markdown",
      "metadata": {
        "id": "uRLfZ0jt-fQI",
        "colab_type": "text"
      },
      "source": [
        "Accuracy has gone up to 91% on the validation data, which is a significant improvement in the right direction.\n",
        "\n",
        "I can run the model for more epochs, say 20. Doing that, we can see that the accuracy on the test set does not necessarily improve with more epochs, due to overfitting."
      ]
    },
    {
      "cell_type": "code",
      "metadata": {
        "id": "244OahpqORmG",
        "colab_type": "code",
        "colab": {
          "base_uri": "https://localhost:8080/",
          "height": 1000
        },
        "outputId": "708929b1-8a00-4fc4-8897-b41e8c9d7dbf"
      },
      "source": [
        "import tensorflow as tf\n",
        "print(tf.__version__)\n",
        "mnist = tf.keras.datasets.fashion_mnist\n",
        "(training_images, training_labels), (test_images, test_labels) = mnist.load_data()\n",
        "training_images=training_images.reshape(60000, 28, 28, 1)\n",
        "training_images=training_images / 255.0\n",
        "test_images = test_images.reshape(10000, 28, 28, 1)\n",
        "test_images=test_images/255.0\n",
        "model = tf.keras.models.Sequential([\n",
        "  tf.keras.layers.Conv2D(32, (3,3), activation='relu', input_shape=(28, 28, 1)),\n",
        "  tf.keras.layers.MaxPooling2D(2, 2),\n",
        "  tf.keras.layers.Conv2D(32, (3,3), activation='relu'),\n",
        "  tf.keras.layers.MaxPooling2D(2,2),\n",
        "  tf.keras.layers.Flatten(),\n",
        "  tf.keras.layers.Dense(128, activation='relu'),\n",
        "  tf.keras.layers.Dense(10, activation='softmax')\n",
        "])\n",
        "\n",
        "model.compile(optimizer='adam', loss='sparse_categorical_crossentropy', metrics=['accuracy'])\n",
        "model.summary()\n",
        "model.fit(training_images, training_labels, epochs=20)\n",
        "test_loss = model.evaluate(test_images, test_labels)"
      ],
      "execution_count": 15,
      "outputs": [
        {
          "output_type": "stream",
          "text": [
            "1.14.0\n",
            "Model: \"sequential_11\"\n",
            "_________________________________________________________________\n",
            "Layer (type)                 Output Shape              Param #   \n",
            "=================================================================\n",
            "conv2d_19 (Conv2D)           (None, 26, 26, 32)        320       \n",
            "_________________________________________________________________\n",
            "max_pooling2d_19 (MaxPooling (None, 13, 13, 32)        0         \n",
            "_________________________________________________________________\n",
            "conv2d_20 (Conv2D)           (None, 11, 11, 32)        9248      \n",
            "_________________________________________________________________\n",
            "max_pooling2d_20 (MaxPooling (None, 5, 5, 32)          0         \n",
            "_________________________________________________________________\n",
            "flatten_11 (Flatten)         (None, 800)               0         \n",
            "_________________________________________________________________\n",
            "dense_22 (Dense)             (None, 128)               102528    \n",
            "_________________________________________________________________\n",
            "dense_23 (Dense)             (None, 10)                1290      \n",
            "=================================================================\n",
            "Total params: 113,386\n",
            "Trainable params: 113,386\n",
            "Non-trainable params: 0\n",
            "_________________________________________________________________\n",
            "Epoch 1/20\n",
            "60000/60000 [==============================] - 46s 760us/sample - loss: 0.4666 - acc: 0.8300\n",
            "Epoch 2/20\n",
            "60000/60000 [==============================] - 46s 764us/sample - loss: 0.3144 - acc: 0.8855\n",
            "Epoch 3/20\n",
            "60000/60000 [==============================] - 46s 773us/sample - loss: 0.2728 - acc: 0.9000\n",
            "Epoch 4/20\n",
            "60000/60000 [==============================] - 47s 781us/sample - loss: 0.2428 - acc: 0.9107\n",
            "Epoch 5/20\n",
            "60000/60000 [==============================] - 45s 749us/sample - loss: 0.2182 - acc: 0.9182\n",
            "Epoch 6/20\n",
            "60000/60000 [==============================] - 45s 748us/sample - loss: 0.1981 - acc: 0.9252\n",
            "Epoch 7/20\n",
            "60000/60000 [==============================] - 44s 741us/sample - loss: 0.1808 - acc: 0.9321\n",
            "Epoch 8/20\n",
            "60000/60000 [==============================] - 45s 742us/sample - loss: 0.1634 - acc: 0.9385\n",
            "Epoch 9/20\n",
            "60000/60000 [==============================] - 45s 746us/sample - loss: 0.1503 - acc: 0.9440\n",
            "Epoch 10/20\n",
            "60000/60000 [==============================] - 45s 745us/sample - loss: 0.1364 - acc: 0.9490\n",
            "Epoch 11/20\n",
            "60000/60000 [==============================] - 45s 756us/sample - loss: 0.1258 - acc: 0.9522\n",
            "Epoch 12/20\n",
            "60000/60000 [==============================] - 44s 741us/sample - loss: 0.1118 - acc: 0.9579\n",
            "Epoch 13/20\n",
            "60000/60000 [==============================] - 44s 739us/sample - loss: 0.1023 - acc: 0.9612\n",
            "Epoch 14/20\n",
            "60000/60000 [==============================] - 44s 740us/sample - loss: 0.0942 - acc: 0.9644\n",
            "Epoch 15/20\n",
            "60000/60000 [==============================] - 44s 728us/sample - loss: 0.0859 - acc: 0.9683\n",
            "Epoch 16/20\n",
            "60000/60000 [==============================] - 45s 751us/sample - loss: 0.0785 - acc: 0.9707\n",
            "Epoch 17/20\n",
            "60000/60000 [==============================] - 44s 739us/sample - loss: 0.0714 - acc: 0.9726\n",
            "Epoch 18/20\n",
            "60000/60000 [==============================] - 45s 749us/sample - loss: 0.0652 - acc: 0.9757\n",
            "Epoch 19/20\n",
            "60000/60000 [==============================] - 44s 734us/sample - loss: 0.0591 - acc: 0.9772\n",
            "Epoch 20/20\n",
            "60000/60000 [==============================] - 45s 746us/sample - loss: 0.0544 - acc: 0.9793\n",
            "10000/10000 [==============================] - 2s 249us/sample - loss: 0.4647 - acc: 0.9060\n"
          ],
          "name": "stdout"
        }
      ]
    },
    {
      "cell_type": "markdown",
      "metadata": {
        "id": "IXx_LX3SAlFs",
        "colab_type": "text"
      },
      "source": [
        "# Visualizing the Convolutions and Pooling\n",
        "\n",
        "Let's look at some outputs from the convolution layers, as I want to visuallly understand what features did convolution find for each class.\n",
        "\n",
        "The below code will show me the labels of the first 100 test examples. I can see that the labels at index 0, 23 and 28 are all the same (9, which was a shoe).\n",
        "\n",
        "I will then apply a convolution layer to these inputs and visualize the output. This way we can see the features that the convolution layer isolated for the class \"shoe\""
      ]
    },
    {
      "cell_type": "code",
      "metadata": {
        "id": "f-6nX4QsOku6",
        "colab_type": "code",
        "outputId": "145d606c-c625-4a8f-c1bc-8c914827fff8",
        "colab": {
          "base_uri": "https://localhost:8080/",
          "height": 69
        }
      },
      "source": [
        "print(test_labels[:100])"
      ],
      "execution_count": 16,
      "outputs": [
        {
          "output_type": "stream",
          "text": [
            "[9 2 1 1 6 1 4 6 5 7 4 5 7 3 4 1 2 4 8 0 2 5 7 9 1 4 6 0 9 3 8 8 3 3 8 0 7\n",
            " 5 7 9 6 1 3 7 6 7 2 1 2 2 4 4 5 8 2 2 8 4 8 0 7 7 8 5 1 1 2 3 9 8 7 0 2 6\n",
            " 2 3 1 2 8 4 1 8 5 9 5 0 3 2 0 6 5 3 6 7 1 8 0 1 4 2]\n"
          ],
          "name": "stdout"
        }
      ]
    },
    {
      "cell_type": "code",
      "metadata": {
        "id": "9FGsHhv6JvDx",
        "colab_type": "code",
        "outputId": "858e3ef4-dc5e-412c-91fd-8945c21ea413",
        "colab": {
          "base_uri": "https://localhost:8080/",
          "height": 269
        }
      },
      "source": [
        "import matplotlib.pyplot as plt\n",
        "f, axarr = plt.subplots(3,4)\n",
        "FIRST_IMAGE=0\n",
        "SECOND_IMAGE=23\n",
        "THIRD_IMAGE=28\n",
        "CONVOLUTION_NUMBER = 1\n",
        "from tensorflow.keras import models\n",
        "layer_outputs = [layer.output for layer in model.layers]\n",
        "activation_model = tf.keras.models.Model(inputs = model.input, outputs = layer_outputs)\n",
        "for x in range(0,4):\n",
        "  f1 = activation_model.predict(test_images[FIRST_IMAGE].reshape(1, 28, 28, 1))[x]\n",
        "  axarr[0,x].imshow(f1[0, : , :, CONVOLUTION_NUMBER], cmap='inferno')\n",
        "  axarr[0,x].grid(False)\n",
        "  f2 = activation_model.predict(test_images[SECOND_IMAGE].reshape(1, 28, 28, 1))[x]\n",
        "  axarr[1,x].imshow(f2[0, : , :, CONVOLUTION_NUMBER], cmap='inferno')\n",
        "  axarr[1,x].grid(False)\n",
        "  f3 = activation_model.predict(test_images[THIRD_IMAGE].reshape(1, 28, 28, 1))[x]\n",
        "  axarr[2,x].imshow(f3[0, : , :, CONVOLUTION_NUMBER], cmap='inferno')\n",
        "  axarr[2,x].grid(False)"
      ],
      "execution_count": 17,
      "outputs": [
        {
          "output_type": "display_data",
          "data": {
            "image/png": "[encoded data removed]",
            "text/plain": [
              "<Figure size 432x288 with 12 Axes>"
            ]
          },
          "metadata": {
            "tags": []
          }
        }
      ]
    },
    {
      "cell_type": "markdown",
      "metadata": {
        "id": "8KVPZqgHo5Ux",
        "colab_type": "text"
      },
      "source": [
        "# Tuning the neural net parameters\n",
        "\n",
        "First, I will change the number of convolution filter from 32 to 16 and 64 to see the impact on the accuracy and runtime\n",
        "\n",
        " Try editing the convolutions. Change the 32s to either 16 or 64. What impact will this have on accuracy and/or training time.\n"
      ]
    },
    {
      "cell_type": "code",
      "metadata": {
        "id": "ZpYRidBXpBPM",
        "colab_type": "code",
        "outputId": "96b076b7-309d-4c0e-ab31-16ced3bee5fc",
        "colab": {
          "base_uri": "https://localhost:8080/",
          "height": 619
        }
      },
      "source": [
        "import tensorflow as tf\n",
        "print(tf.__version__)\n",
        "mnist = tf.keras.datasets.mnist\n",
        "(training_images, training_labels), (test_images, test_labels) = mnist.load_data()\n",
        "training_images=training_images.reshape(60000, 28, 28, 1)\n",
        "training_images=training_images / 255.0\n",
        "test_images = test_images.reshape(10000, 28, 28, 1)\n",
        "test_images=test_images/255.0\n",
        "model = tf.keras.models.Sequential([\n",
        "  tf.keras.layers.Conv2D(16, (3,3), activation='relu', input_shape=(28, 28, 1)),\n",
        "  tf.keras.layers.MaxPooling2D(2, 2),\n",
        "  tf.keras.layers.Conv2D(16, (3,3), activation='relu', input_shape=(28, 28, 1)),\n",
        "  tf.keras.layers.MaxPooling2D(2, 2),\n",
        "  tf.keras.layers.Flatten(),\n",
        "  tf.keras.layers.Dense(128, activation='relu'),\n",
        "  tf.keras.layers.Dense(10, activation='softmax')\n",
        "])\n",
        "model.compile(optimizer='adam', loss='sparse_categorical_crossentropy', metrics=['accuracy'])\n",
        "model.summary()\n",
        "model.fit(training_images, training_labels, epochs=5)\n",
        "test_loss, test_acc = model.evaluate(test_images, test_labels)\n",
        "print(test_acc)"
      ],
      "execution_count": 18,
      "outputs": [
        {
          "output_type": "stream",
          "text": [
            "1.14.0\n",
            "Model: \"sequential_12\"\n",
            "_________________________________________________________________\n",
            "Layer (type)                 Output Shape              Param #   \n",
            "=================================================================\n",
            "conv2d_21 (Conv2D)           (None, 26, 26, 16)        160       \n",
            "_________________________________________________________________\n",
            "max_pooling2d_21 (MaxPooling (None, 13, 13, 16)        0         \n",
            "_________________________________________________________________\n",
            "conv2d_22 (Conv2D)           (None, 11, 11, 16)        2320      \n",
            "_________________________________________________________________\n",
            "max_pooling2d_22 (MaxPooling (None, 5, 5, 16)          0         \n",
            "_________________________________________________________________\n",
            "flatten_12 (Flatten)         (None, 400)               0         \n",
            "_________________________________________________________________\n",
            "dense_24 (Dense)             (None, 128)               51328     \n",
            "_________________________________________________________________\n",
            "dense_25 (Dense)             (None, 10)                1290      \n",
            "=================================================================\n",
            "Total params: 55,098\n",
            "Trainable params: 55,098\n",
            "Non-trainable params: 0\n",
            "_________________________________________________________________\n",
            "Epoch 1/5\n",
            "60000/60000 [==============================] - 31s 515us/sample - loss: 0.1769 - acc: 0.9463\n",
            "Epoch 2/5\n",
            "60000/60000 [==============================] - 30s 506us/sample - loss: 0.0585 - acc: 0.9818\n",
            "Epoch 3/5\n",
            "60000/60000 [==============================] - 31s 512us/sample - loss: 0.0418 - acc: 0.9872\n",
            "Epoch 4/5\n",
            "60000/60000 [==============================] - 31s 519us/sample - loss: 0.0315 - acc: 0.9901\n",
            "Epoch 5/5\n",
            "60000/60000 [==============================] - 31s 520us/sample - loss: 0.0241 - acc: 0.9925\n",
            "10000/10000 [==============================] - 2s 232us/sample - loss: 0.0315 - acc: 0.9901\n",
            "0.9901\n"
          ],
          "name": "stdout"
        }
      ]
    },
    {
      "cell_type": "code",
      "metadata": {
        "id": "9WgQz03MQ2b-",
        "colab_type": "code",
        "colab": {
          "base_uri": "https://localhost:8080/",
          "height": 619
        },
        "outputId": "49a6d3a2-918a-46d6-8426-33404689d5cd"
      },
      "source": [
        "import tensorflow as tf\n",
        "print(tf.__version__)\n",
        "mnist = tf.keras.datasets.mnist\n",
        "(training_images, training_labels), (test_images, test_labels) = mnist.load_data()\n",
        "training_images=training_images.reshape(60000, 28, 28, 1)\n",
        "training_images=training_images / 255.0\n",
        "test_images = test_images.reshape(10000, 28, 28, 1)\n",
        "test_images=test_images/255.0\n",
        "\n",
        "\n",
        "model = tf.keras.models.Sequential([\n",
        "  tf.keras.layers.Conv2D(64, (3,3), activation='relu', input_shape=(28, 28, 1)),\n",
        "  tf.keras.layers.MaxPooling2D(2, 2),\n",
        "  tf.keras.layers.Conv2D(64, (3,3), activation='relu'),\n",
        "  tf.keras.layers.MaxPooling2D(2, 2),\n",
        "  tf.keras.layers.Flatten(),\n",
        "  tf.keras.layers.Dense(128, activation='relu'),\n",
        "  tf.keras.layers.Dense(10, activation='softmax')\n",
        "])\n",
        "model.compile(optimizer='adam', loss='sparse_categorical_crossentropy', metrics=['accuracy'])\n",
        "model.summary()\n",
        "model.fit(training_images, training_labels, epochs=5)\n",
        "test_loss, test_acc = model.evaluate(test_images, test_labels)\n",
        "print(test_acc)"
      ],
      "execution_count": 21,
      "outputs": [
        {
          "output_type": "stream",
          "text": [
            "1.14.0\n",
            "Model: \"sequential_15\"\n",
            "_________________________________________________________________\n",
            "Layer (type)                 Output Shape              Param #   \n",
            "=================================================================\n",
            "conv2d_27 (Conv2D)           (None, 26, 26, 64)        640       \n",
            "_________________________________________________________________\n",
            "max_pooling2d_27 (MaxPooling (None, 13, 13, 64)        0         \n",
            "_________________________________________________________________\n",
            "conv2d_28 (Conv2D)           (None, 11, 11, 64)        36928     \n",
            "_________________________________________________________________\n",
            "max_pooling2d_28 (MaxPooling (None, 5, 5, 64)          0         \n",
            "_________________________________________________________________\n",
            "flatten_15 (Flatten)         (None, 1600)              0         \n",
            "_________________________________________________________________\n",
            "dense_30 (Dense)             (None, 128)               204928    \n",
            "_________________________________________________________________\n",
            "dense_31 (Dense)             (None, 10)                1290      \n",
            "=================================================================\n",
            "Total params: 243,786\n",
            "Trainable params: 243,786\n",
            "Non-trainable params: 0\n",
            "_________________________________________________________________\n",
            "Epoch 1/5\n",
            "60000/60000 [==============================] - 79s 1ms/sample - loss: 0.1186 - acc: 0.9641\n",
            "Epoch 2/5\n",
            "60000/60000 [==============================] - 79s 1ms/sample - loss: 0.0417 - acc: 0.9870\n",
            "Epoch 3/5\n",
            "60000/60000 [==============================] - 79s 1ms/sample - loss: 0.0272 - acc: 0.9917\n",
            "Epoch 4/5\n",
            "60000/60000 [==============================] - 78s 1ms/sample - loss: 0.0195 - acc: 0.9940\n",
            "Epoch 5/5\n",
            "60000/60000 [==============================] - 78s 1ms/sample - loss: 0.0156 - acc: 0.9951\n",
            "10000/10000 [==============================] - 4s 388us/sample - loss: 0.0291 - acc: 0.9919\n",
            "0.9919\n"
          ],
          "name": "stdout"
        }
      ]
    },
    {
      "cell_type": "markdown",
      "metadata": {
        "id": "jGnES0WFQvjW",
        "colab_type": "text"
      },
      "source": [
        "Next, I repeated the training with only one convolution layer and deleted the second convolution layer\n"
      ]
    },
    {
      "cell_type": "code",
      "metadata": {
        "id": "1IQ8CLp2R61J",
        "colab_type": "code",
        "colab": {
          "base_uri": "https://localhost:8080/",
          "height": 241
        },
        "outputId": "26ceac6c-fc39-4009-bd1c-3148fa517c6c"
      },
      "source": [
        "import tensorflow as tf\n",
        "print(tf.__version__)\n",
        "mnist = tf.keras.datasets.mnist\n",
        "(training_images, training_labels), (test_images, test_labels) = mnist.load_data()\n",
        "training_images=training_images.reshape(60000, 28, 28, 1)\n",
        "training_images=training_images / 255.0\n",
        "test_images = test_images.reshape(10000, 28, 28, 1)\n",
        "test_images=test_images/255.0\n",
        "\n",
        "model = tf.keras.models.Sequential([\n",
        "  tf.keras.layers.Conv2D(32, (3,3), activation='relu', input_shape=(28, 28, 1)),\n",
        "  tf.keras.layers.MaxPooling2D(2, 2),\n",
        "  tf.keras.layers.Flatten(),\n",
        "  tf.keras.layers.Dense(128, activation='relu'),\n",
        "  tf.keras.layers.Dense(10, activation='softmax')\n",
        "])\n",
        "model.compile(optimizer='adam', loss='sparse_categorical_crossentropy', metrics=['accuracy'])\n",
        "model.fit(training_images, training_labels, epochs=5)\n",
        "test_loss, test_acc = model.evaluate(test_images, test_labels)\n",
        "print(test_acc)"
      ],
      "execution_count": 22,
      "outputs": [
        {
          "output_type": "stream",
          "text": [
            "1.14.0\n",
            "Epoch 1/5\n",
            "60000/60000 [==============================] - 36s 608us/sample - loss: 0.1483 - acc: 0.9554\n",
            "Epoch 2/5\n",
            "60000/60000 [==============================] - 36s 607us/sample - loss: 0.0519 - acc: 0.9840\n",
            "Epoch 3/5\n",
            "60000/60000 [==============================] - 36s 598us/sample - loss: 0.0331 - acc: 0.9897\n",
            "Epoch 4/5\n",
            "60000/60000 [==============================] - 36s 594us/sample - loss: 0.0218 - acc: 0.9931\n",
            "Epoch 5/5\n",
            "60000/60000 [==============================] - 36s 600us/sample - loss: 0.0145 - acc: 0.9952\n",
            "10000/10000 [==============================] - 2s 228us/sample - loss: 0.0733 - acc: 0.9782\n",
            "0.9782\n"
          ],
          "name": "stdout"
        }
      ]
    },
    {
      "cell_type": "markdown",
      "metadata": {
        "id": "gqBTx8ASRU0B",
        "colab_type": "text"
      },
      "source": [
        "Next, let's add more convolution layers and see how that affects the accuracy and loss"
      ]
    },
    {
      "cell_type": "code",
      "metadata": {
        "id": "uaQyX6TOSGF8",
        "colab_type": "code",
        "colab": {
          "base_uri": "https://localhost:8080/",
          "height": 241
        },
        "outputId": "d46fcbaf-faf4-4748-94d7-262cda9b6702"
      },
      "source": [
        "import tensorflow as tf\n",
        "print(tf.__version__)\n",
        "mnist = tf.keras.datasets.mnist\n",
        "(training_images, training_labels), (test_images, test_labels) = mnist.load_data()\n",
        "training_images=training_images.reshape(60000, 28, 28, 1)\n",
        "training_images=training_images / 255.0\n",
        "test_images = test_images.reshape(10000, 28, 28, 1)\n",
        "test_images=test_images/255.0\n",
        "\n",
        "model = tf.keras.models.Sequential([\n",
        "  tf.keras.layers.Conv2D(32, (3,3), activation='relu', input_shape=(28, 28, 1)),\n",
        "  tf.keras.layers.MaxPooling2D(2, 2),\n",
        "  tf.keras.layers.Conv2D(32, (3,3), activation='relu', input_shape=(28, 28, 1)),\n",
        "  tf.keras.layers.MaxPooling2D(2, 2),\n",
        "  tf.keras.layers.Conv2D(32, (3,3), activation='relu', input_shape=(28, 28, 1)),\n",
        "  tf.keras.layers.MaxPooling2D(2, 2),\n",
        "  tf.keras.layers.Flatten(),\n",
        "  tf.keras.layers.Dense(128, activation='relu'),\n",
        "  tf.keras.layers.Dense(10, activation='softmax')\n",
        "])\n",
        "model.compile(optimizer='adam', loss='sparse_categorical_crossentropy', metrics=['accuracy'])\n",
        "model.fit(training_images, training_labels, epochs=5)\n",
        "test_loss, test_acc = model.evaluate(test_images, test_labels)\n",
        "print(test_acc)"
      ],
      "execution_count": 23,
      "outputs": [
        {
          "output_type": "stream",
          "text": [
            "1.14.0\n",
            "Epoch 1/5\n",
            "60000/60000 [==============================] - 47s 775us/sample - loss: 0.2621 - acc: 0.9195\n",
            "Epoch 2/5\n",
            "60000/60000 [==============================] - 46s 772us/sample - loss: 0.0958 - acc: 0.9698\n",
            "Epoch 3/5\n",
            "60000/60000 [==============================] - 46s 773us/sample - loss: 0.0721 - acc: 0.9774\n",
            "Epoch 4/5\n",
            "60000/60000 [==============================] - 46s 775us/sample - loss: 0.0593 - acc: 0.9816\n",
            "Epoch 5/5\n",
            "60000/60000 [==============================] - 47s 780us/sample - loss: 0.0498 - acc: 0.9843\n",
            "10000/10000 [==============================] - 3s 267us/sample - loss: 0.0615 - acc: 0.9820\n",
            "0.982\n"
          ],
          "name": "stdout"
        }
      ]
    },
    {
      "cell_type": "markdown",
      "metadata": {
        "id": "tNR-t8H8Sixu",
        "colab_type": "text"
      },
      "source": [
        "Finally, let's implement a callback function to stop training once we reach the desired accuracy."
      ]
    },
    {
      "cell_type": "code",
      "metadata": {
        "id": "aqL9QuvwSpnK",
        "colab_type": "code",
        "colab": {
          "base_uri": "https://localhost:8080/",
          "height": 137
        },
        "outputId": "9d6f2f15-27cd-4bb2-9ff0-d4615330dcad"
      },
      "source": [
        "\n",
        "import tensorflow as tf\n",
        "print(tf.__version__)\n",
        "\n",
        "class myCallback(tf.keras.callbacks.Callback):\n",
        "  def on_epoch_end(self, epoch, logs={}):\n",
        "    if(logs.get('acc')>0.95):\n",
        "      print(\"\\nReached 95% accuracy so cancelling training!\")\n",
        "      self.model.stop_training = True\n",
        "\n",
        "callbacks = myCallback()\n",
        "\n",
        "mnist = tf.keras.datasets.mnist\n",
        "(training_images, training_labels), (test_images, test_labels) = mnist.load_data()\n",
        "training_images=training_images.reshape(60000, 28, 28, 1)\n",
        "training_images=training_images / 255.0\n",
        "test_images = test_images.reshape(10000, 28, 28, 1)\n",
        "test_images=test_images/255.0\n",
        "model = tf.keras.models.Sequential([\n",
        "  tf.keras.layers.Conv2D(32, (3,3), activation='relu', input_shape=(28, 28, 1)),\n",
        "  tf.keras.layers.MaxPooling2D(2, 2),\n",
        "  tf.keras.layers.Conv2D(32, (3,3), activation='relu', input_shape=(28, 28, 1)),\n",
        "  tf.keras.layers.MaxPooling2D(2, 2),\n",
        "  tf.keras.layers.Flatten(),\n",
        "  tf.keras.layers.Dense(128, activation='relu'),\n",
        "  tf.keras.layers.Dense(10, activation='softmax')\n",
        "])\n",
        "model.compile(optimizer='adam', loss='sparse_categorical_crossentropy', metrics=['accuracy'])\n",
        "model.fit(training_images, training_labels, epochs=5, callbacks = [callbacks])\n",
        "test_loss, test_acc = model.evaluate(test_images, test_labels)\n",
        "print(test_acc)"
      ],
      "execution_count": 24,
      "outputs": [
        {
          "output_type": "stream",
          "text": [
            "1.14.0\n",
            "Epoch 1/5\n",
            "59904/60000 [============================>.] - ETA: 0s - loss: 0.1514 - acc: 0.9544\n",
            "Reached 95% accuracy so cancelling training!\n",
            "60000/60000 [==============================] - 45s 749us/sample - loss: 0.1513 - acc: 0.9545\n",
            "10000/10000 [==============================] - 3s 286us/sample - loss: 0.0704 - acc: 0.9761\n",
            "0.9761\n"
          ],
          "name": "stdout"
        }
      ]
    }
  ]
}